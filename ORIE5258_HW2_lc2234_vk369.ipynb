{
  "nbformat": 4,
  "nbformat_minor": 0,
  "metadata": {
    "colab": {
      "provenance": []
    },
    "kernelspec": {
      "name": "python3",
      "display_name": "Python 3"
    },
    "language_info": {
      "name": "python"
    }
  },
  "cells": [
    {
      "cell_type": "markdown",
      "source": [
        "# ORIE 5258 Homework 2: Calculating Optimal Minimum-Variance Portfolio Weights\n",
        "\n",
        "#### Students: Vishakha Korde (vk369) and Luis Alonso Cendra Villalobos (lc2234)"
      ],
      "metadata": {
        "id": "qgPbRrBcp-lb"
      }
    },
    {
      "cell_type": "markdown",
      "source": [
        "**Stocks chosen:**\n",
        "\n",
        "AAPL, AMZN, AVGO, BRK, GOOG, HD, JNJ, JPM, LLY, MA, META, MSFT, NVDA, ORCL, PG, TSLA, UNH, V, WMT, XOM\n",
        "\n",
        "**Time series:**\n",
        "\n",
        "Start = 9/1/2023\n",
        "\n",
        "End = 10/30/2023"
      ],
      "metadata": {
        "id": "Gsos1uXzt961"
      }
    },
    {
      "cell_type": "code",
      "source": [
        "from google.colab import drive\n",
        "drive.mount('/content/drive/')"
      ],
      "metadata": {
        "colab": {
          "base_uri": "https://localhost:8080/"
        },
        "id": "7VCig9tJUSph",
        "outputId": "5ebcf1c8-8fde-4aba-992c-3efa03dbb71c"
      },
      "execution_count": 62,
      "outputs": [
        {
          "output_type": "stream",
          "name": "stdout",
          "text": [
            "Drive already mounted at /content/drive/; to attempt to forcibly remount, call drive.mount(\"/content/drive/\", force_remount=True).\n"
          ]
        }
      ]
    },
    {
      "cell_type": "code",
      "source": [
        "import numpy as np\n",
        "import matplotlib.pyplot as plt\n",
        "import pandas as pd"
      ],
      "metadata": {
        "id": "uUOvkPVNcgAe"
      },
      "execution_count": 63,
      "outputs": []
    },
    {
      "cell_type": "code",
      "execution_count": 64,
      "metadata": {
        "id": "6OyXIE_Y9pnh"
      },
      "outputs": [],
      "source": [
        "# creating pandas dataframe for each stock\n",
        "\n",
        "path = '/content/drive/MyDrive/ORIE5258 - Python for Finance/HW2/'\n",
        "\n",
        "AAPL = pd.read_csv(path + 'AAPL.csv')\n",
        "AAPL.Name = 'AAPL'\n",
        "AMZN = pd.read_csv(path + 'AMZN.csv')\n",
        "AMZN.Name = 'AMZN'\n",
        "AVGO = pd.read_csv(path + 'AVGO.csv')\n",
        "AVGO.Name = 'AVGO'\n",
        "BRK  = pd.read_csv(path + 'BRK.csv')\n",
        "BRK.Name = 'BRK'\n",
        "GOOG = pd.read_csv(path + 'GOOG.csv')\n",
        "GOOG.Name = 'GOOG'\n",
        "HD   = pd.read_csv(path + 'HD.csv')\n",
        "HD.Name = 'HD'\n",
        "JNJ  = pd.read_csv(path + 'JNJ.csv')\n",
        "JNJ.Name = 'JNJ'\n",
        "JPM  = pd.read_csv(path + 'JPM.csv')\n",
        "JPM.Name = 'JPM'\n",
        "LLY  = pd.read_csv(path + 'LLY.csv')\n",
        "LLY.Name = 'LLY'\n",
        "MA   = pd.read_csv(path + 'MA.csv')\n",
        "MA.Name = 'MA'\n",
        "META = pd.read_csv(path + 'META.csv')\n",
        "META.Name = 'META'\n",
        "MSFT = pd.read_csv(path + 'MSFT.csv')\n",
        "MSFT.Name = 'MSFT'\n",
        "NVDA = pd.read_csv(path + 'NVDA.csv')\n",
        "NVDA.Name = 'NVDA'\n",
        "ORCL = pd.read_csv(path + 'ORCL.csv')\n",
        "ORCL.Name = 'ORCL'\n",
        "PG   = pd.read_csv(path + 'PG.csv')\n",
        "PG.Name = 'PG'\n",
        "TSLA = pd.read_csv(path + 'TSLA.csv')\n",
        "TSLA.Name = 'TSLA'\n",
        "UNH  = pd.read_csv(path + 'UNH.csv')\n",
        "UNH.Name = 'UNH'\n",
        "V    = pd.read_csv(path + 'V.csv')\n",
        "V.Name = 'V'\n",
        "WMT  = pd.read_csv(path + 'WMT.csv')\n",
        "WMT.Name = 'WMT'\n",
        "XOM  = pd.read_csv(path + 'XOM.csv')\n",
        "XOM.Name = 'XOM'"
      ]
    },
    {
      "cell_type": "code",
      "source": [
        "# List of stocks\n",
        "dataframes = [AAPL, AMZN, AVGO, BRK, GOOG, HD, JNJ, JPM, LLY, MA, META, MSFT, NVDA, ORCL, PG, TSLA, UNH, V, WMT, XOM]\n",
        "\n",
        "# Computing % returns for each stock\n",
        "for df in dataframes:\n",
        "    df[df.Name] = df['Adj Close'].shift(-1) / df['Adj Close'] - 1"
      ],
      "metadata": {
        "id": "xk6ZNAeTZUK-"
      },
      "execution_count": 65,
      "outputs": []
    },
    {
      "cell_type": "code",
      "source": [
        "# Merge DataFrames for all asset returns\n",
        "for df in dataframes:\n",
        "  asset_returns = pd.concat([AAPL['Date'], AAPL['AAPL'], AMZN['AMZN'], AVGO['AVGO'], BRK['BRK'], GOOG['GOOG'], HD['HD'],\n",
        "              JNJ['JNJ'], JPM['JPM'], LLY['LLY'], MA['MA'], META['META'], MSFT['MSFT'],\n",
        "              NVDA['NVDA'], ORCL['ORCL'], PG['PG'], TSLA['TSLA'], UNH['UNH'], V['V'],\n",
        "              WMT['WMT'], XOM['XOM']], axis=1)\n",
        "\n",
        "# Fill NaN values with zeros\n",
        "asset_returns = asset_returns.fillna(0)\n",
        "\n",
        "# Print the asset returns\n",
        "print(asset_returns[:])"
      ],
      "metadata": {
        "colab": {
          "base_uri": "https://localhost:8080/"
        },
        "id": "qz6BPVmbZqZK",
        "outputId": "c3782c22-c531-4cc8-e387-e67fe2fb5f53"
      },
      "execution_count": 66,
      "outputs": [
        {
          "output_type": "stream",
          "name": "stdout",
          "text": [
            "          Date      AAPL      AMZN      AVGO       BRK      GOOG        HD  \\\n",
            "0     9/1/2023  0.001267 -0.006154 -0.000401 -0.005490 -0.000658 -0.015912   \n",
            "1     9/5/2023 -0.035793 -0.013914  0.000115  0.003329 -0.009802 -0.005430   \n",
            "2     9/6/2023 -0.029249  0.018395 -0.017472  0.000359  0.006131  0.007423   \n",
            "3     9/7/2023  0.003492  0.002757  0.000607  0.003731  0.007342  0.000883   \n",
            "4     9/8/2023  0.006623  0.035231  0.001854  0.006526  0.003936 -0.001034   \n",
            "5    9/11/2023 -0.017061 -0.013068 -0.017017  0.006183 -0.012124 -0.006365   \n",
            "6    9/12/2023 -0.011855  0.025632  0.009958  0.000109  0.010509 -0.001226   \n",
            "7    9/13/2023  0.008782 -0.000898  0.021936  0.004567  0.010836  0.011507   \n",
            "8    9/14/2023 -0.004154 -0.029920 -0.022899 -0.004438 -0.004964 -0.024967   \n",
            "9    9/15/2023  0.016913 -0.002920 -0.001973  0.006986  0.004772 -0.012881   \n",
            "10   9/18/2023  0.006181 -0.016788 -0.000941  0.000135 -0.000936 -0.008353   \n",
            "11   9/19/2023 -0.019992 -0.017002 -0.016611 -0.009879 -0.030541 -0.011920   \n",
            "12   9/20/2023 -0.008889 -0.044053 -0.026741 -0.009651 -0.023999 -0.013189   \n",
            "13   9/21/2023  0.004945 -0.001624  0.025632 -0.008588 -0.000837 -0.003358   \n",
            "14   9/22/2023  0.007380  0.016651  0.005802  0.004304  0.007010  0.002486   \n",
            "15   9/25/2023 -0.023398 -0.040299 -0.021226 -0.006331 -0.020580 -0.012888   \n",
            "16   9/26/2023 -0.008897  0.000000  0.000760 -0.004563  0.015527 -0.002380   \n",
            "17   9/27/2023  0.001526  0.000000  0.018597 -0.002012  0.012703  0.005533   \n",
            "18   9/28/2023  0.003046  0.009049 -0.001707 -0.018932 -0.009615 -0.004382   \n",
            "19   9/29/2023  0.014836  0.018408  0.005261 -0.006337  0.025180 -0.007711   \n",
            "20   10/2/2023 -0.007770 -0.036614 -0.024097 -0.014479 -0.013834 -0.026315   \n",
            "21   10/3/2023  0.007309  0.018281  0.011021  0.001895  0.022281  0.001541   \n",
            "22   10/4/2023  0.007198 -0.008189  0.000061  0.003986 -0.002055 -0.002360   \n",
            "23   10/5/2023  0.014750  0.015878  0.025975  0.003709  0.020148  0.003840   \n",
            "24   10/6/2023  0.008451  0.002344  0.012564 -0.002570  0.005550  0.008674   \n",
            "25   10/9/2023 -0.003352  0.009512  0.002956  0.009003 -0.002151  0.013069   \n",
            "26  10/10/2023  0.007904  0.018150  0.018814 -0.000373  0.017960 -0.003910   \n",
            "27  10/11/2023  0.005061  0.003793  0.035492 -0.007950 -0.009951 -0.016876   \n",
            "28  10/12/2023 -0.010293 -0.019195 -0.024757 -0.001649 -0.012189 -0.003754   \n",
            "29  10/13/2023 -0.000727  0.021265  0.021955  0.003304  0.013783  0.018532   \n",
            "30  10/16/2023 -0.008785 -0.008148 -0.020131 -0.002426  0.003559 -0.004675   \n",
            "31  10/17/2023 -0.007395 -0.025405  0.002974 -0.013029 -0.012129 -0.019261   \n",
            "32  10/18/2023 -0.002161  0.002107 -0.021645 -0.006542 -0.002154 -0.011956   \n",
            "33  10/19/2023 -0.014704 -0.025156 -0.016363 -0.008268 -0.016117 -0.001255   \n",
            "34  10/20/2023  0.000694  0.011105  0.010063  0.002918  0.008483 -0.004679   \n",
            "35  10/23/2023  0.002543  0.015803  0.021909  0.005314  0.016099 -0.006174   \n",
            "36  10/24/2023 -0.013492 -0.055772 -0.035728 -0.005109 -0.095989 -0.008401   \n",
            "37  10/25/2023 -0.024606 -0.014993 -0.026929 -0.002196 -0.025499 -0.010430   \n",
            "38  10/26/2023  0.007969  0.068328  0.014043 -0.013238 -0.000324 -0.005540   \n",
            "39  10/27/2023  0.012305  0.038907  0.003447  0.017184  0.019044  0.018158   \n",
            "40  10/30/2023  0.000000  0.000000  0.000000  0.000000  0.000000  0.000000   \n",
            "\n",
            "         JNJ       JPM       LLY  ...      META      MSFT      NVDA      ORCL  \\\n",
            "0   0.001246 -0.011034  0.001939  ...  0.012720  0.014879  0.000804  0.025221   \n",
            "1  -0.016617 -0.001653  0.003153  ... -0.003265 -0.002009 -0.030550  0.002823   \n",
            "2   0.012784 -0.008554  0.023716  ... -0.001671 -0.008922 -0.017424  0.006113   \n",
            "3   0.003312  0.000765  0.023080  ... -0.002612  0.013216 -0.014468  0.009833   \n",
            "4   0.013079  0.004380  0.015517  ...  0.032462  0.010979 -0.008646  0.003087   \n",
            "5   0.005656  0.013014  0.006280  ... -0.019183 -0.018258 -0.006817 -0.134954   \n",
            "6   0.002506  0.000478 -0.000701  ...  0.011271  0.012931  0.013706  0.020345   \n",
            "7  -0.001524  0.019398 -0.012139  ...  0.021832  0.007856  0.002111  0.016273   \n",
            "8  -0.013986 -0.002948 -0.026960  ... -0.036603 -0.025037 -0.036879  0.002200   \n",
            "9   0.006318  0.002083 -0.007609  ...  0.007459 -0.003513  0.001503 -0.014924   \n",
            "10 -0.001662 -0.001274  0.006442  ...  0.008329 -0.001246 -0.010144  0.004991   \n",
            "11  0.004377 -0.004230 -0.009253  ... -0.017701 -0.023977 -0.029435  0.000887   \n",
            "12 -0.007673 -0.007822 -0.034250  ... -0.013148 -0.003866 -0.028931 -0.030478   \n",
            "13 -0.007176 -0.009583  0.000745  ...  0.011328 -0.007887  0.014457 -0.003655   \n",
            "14 -0.001495  0.004941  0.003179  ...  0.005851  0.001672  0.014708 -0.006695   \n",
            "15 -0.007737 -0.010379 -0.004128  ... -0.006216 -0.017006 -0.007366 -0.031579   \n",
            "16 -0.012011  0.005865 -0.000455  ... -0.004081  0.002082  0.013290 -0.002479   \n",
            "17 -0.001464  0.012416 -0.009659  ...  0.020891  0.002717  0.014623  0.014624   \n",
            "18 -0.007203 -0.017413 -0.013445  ... -0.012337  0.006727  0.009515 -0.002167   \n",
            "19 -0.003852 -0.008620  0.002160  ...  0.022018  0.019161  0.029495  0.007458   \n",
            "20  0.001225 -0.007373 -0.024336  ... -0.019164 -0.026134 -0.028248 -0.020523   \n",
            "21  0.001159  0.004485  0.011939  ...  0.015418  0.017773  0.012041  0.024493   \n",
            "22  0.010417  0.004216  0.018854  ... -0.002585  0.001254  0.014691  0.011860   \n",
            "23  0.003182  0.015395  0.043843  ...  0.034909  0.024737  0.024033  0.014859   \n",
            "24  0.005709 -0.002274  0.011571  ...  0.009289  0.007823 -0.010686  0.003274   \n",
            "25 -0.001135  0.006079  0.013205  ...  0.010931 -0.004336  0.011596 -0.005529   \n",
            "26 -0.013766  0.003433  0.044829  ...  0.018581  0.012272  0.022010  0.003019   \n",
            "27  0.000960 -0.002326  0.008624  ... -0.011165 -0.003790  0.002970 -0.004834   \n",
            "28  0.003326  0.015020 -0.002129  ... -0.029214 -0.010358 -0.031612 -0.007882   \n",
            "29  0.004335 -0.001013  0.012213  ...  0.020528  0.014982  0.013946  0.004249   \n",
            "30 -0.009141 -0.002164 -0.013509  ...  0.008874 -0.001744 -0.046795  0.003036   \n",
            "31 -0.021526 -0.010981 -0.001759  ... -0.021698 -0.005872 -0.039647 -0.007245   \n",
            "32 -0.002684 -0.004249 -0.027073  ... -0.013124  0.003666 -0.002251  0.000831   \n",
            "33  0.004464 -0.016106 -0.010426  ... -0.013299 -0.014035 -0.016959 -0.059904   \n",
            "34 -0.010523 -0.013641 -0.013667  ...  0.017366  0.008112  0.038370  0.017771   \n",
            "35 -0.001057  0.001206  0.027365  ... -0.004650  0.003674  0.016009 -0.004438   \n",
            "36  0.002248 -0.005454 -0.010077  ... -0.041657  0.030678 -0.043149 -0.017151   \n",
            "37 -0.016956  0.002564 -0.031307  ... -0.037325 -0.037514 -0.034778 -0.010155   \n",
            "38 -0.022819 -0.036019 -0.013853  ...  0.029062  0.005856  0.004315  0.005876   \n",
            "39  0.009821  0.012750  0.009782  ...  0.019984  0.022740  0.016321  0.006535   \n",
            "40  0.000000  0.000000  0.000000  ...  0.000000  0.000000  0.000000  0.000000   \n",
            "\n",
            "          PG      TSLA       UNH         V       WMT       XOM  \n",
            "0  -0.013397  0.046855  0.009596 -0.011164 -0.008046  0.000088  \n",
            "1  -0.001968 -0.017817 -0.008049  0.003342  0.007487  0.008632  \n",
            "2   0.009531 -0.001707  0.016501  0.003981  0.012386 -0.004890  \n",
            "3  -0.004297 -0.011889 -0.004473  0.000607  0.001835  0.014568  \n",
            "4   0.011901  0.100926 -0.002891 -0.000283  0.003480 -0.012542  \n",
            "5  -0.017577 -0.022297  0.001085  0.000324  0.001095  0.029170  \n",
            "6   0.006972  0.014281 -0.000125  0.002143  0.000243 -0.008937  \n",
            "7   0.010974  0.017472  0.007836 -0.025542  0.004193  0.017863  \n",
            "8  -0.008400 -0.005977  0.006410 -0.001781 -0.003691 -0.015356  \n",
            "9   0.003779 -0.033201 -0.001315  0.014892 -0.007410  0.008055  \n",
            "10 -0.002921  0.004599 -0.011110 -0.004496 -0.000245 -0.002635  \n",
            "11 -0.000846 -0.014672  0.023863 -0.006980  0.003244 -0.007926  \n",
            "12 -0.008666 -0.026239  0.018308 -0.021707 -0.012141 -0.014089  \n",
            "13 -0.003681 -0.042315  0.009897 -0.006466  0.002656  0.001568  \n",
            "14 -0.006069  0.008616  0.008259 -0.007317  0.004435  0.011223  \n",
            "15 -0.008894 -0.011620 -0.009465 -0.015898 -0.003495  0.001549  \n",
            "16 -0.013260 -0.014829 -0.003403 -0.000653 -0.004800  0.032557  \n",
            "17 -0.006787  0.024449  0.012646  0.009412  0.005070 -0.006073  \n",
            "18 -0.003280  0.015586 -0.011586 -0.007123 -0.016058 -0.015820  \n",
            "19 -0.004593  0.005515  0.020587  0.005478  0.001063 -0.016584  \n",
            "20  0.002066 -0.020151 -0.009911 -0.010637 -0.006309  0.001730  \n",
            "21  0.003299  0.059344  0.002257  0.010533  0.012006 -0.037382  \n",
            "22 -0.014866 -0.004250  0.010987  0.009774 -0.011925 -0.022511  \n",
            "23  0.002017  0.001846  0.016621  0.006682 -0.016784 -0.016699  \n",
            "24 -0.005066 -0.003301  0.003239 -0.002553 -0.003644  0.034991  \n",
            "25  0.009905  0.015212 -0.004311  0.009213  0.011294 -0.004237  \n",
            "26 -0.012295 -0.002390 -0.000210 -0.003888  0.003997 -0.035853  \n",
            "27  0.002238 -0.015666  0.002690  0.004667  0.004550 -0.000188  \n",
            "28  0.009559 -0.029938  0.026373  0.003759  0.005536  0.031934  \n",
            "29  0.009538  0.011150 -0.002540  0.010098  0.008634  0.000728  \n",
            "30  0.001301  0.003663 -0.002565  0.004707  0.001303  0.013097  \n",
            "31  0.025776 -0.047754 -0.001099 -0.015464  0.000743  0.014005  \n",
            "32 -0.005628 -0.093003 -0.008264 -0.015412 -0.004767  0.000620  \n",
            "33 -0.001349 -0.036891 -0.008653 -0.001839 -0.012502 -0.017165  \n",
            "34  0.000675  0.000425 -0.010360 -0.007927  0.014172 -0.014674  \n",
            "35  0.011812  0.020936  0.006576  0.013476  0.013912 -0.009685  \n",
            "36  0.004670 -0.018936  0.009924  0.009376 -0.003002  0.001845  \n",
            "37 -0.005312 -0.031353 -0.003489 -0.023517 -0.006083 -0.009117  \n",
            "38 -0.017623  0.007484 -0.007003 -0.008691 -0.003709 -0.019052  \n",
            "39  0.014270 -0.047950  0.010159  0.016618  0.011479  0.003126  \n",
            "40  0.000000  0.000000  0.000000  0.000000  0.000000  0.000000  \n",
            "\n",
            "[41 rows x 21 columns]\n"
          ]
        }
      ]
    },
    {
      "cell_type": "code",
      "source": [
        "# creating new dataframe to store the difference in returns\n",
        "return_diff = pd.DataFrame()\n",
        "\n",
        "# ASSUMPTION: considering 'AAPL' as independent variable and using the other 19 stocks as dependent variables to construct risk neutral portfolio\n",
        "for i in range(2, 21):\n",
        "  # calculating difference in return between AAPL and each stock\n",
        "  return_diff[asset_returns.columns[i]] = asset_returns[asset_returns.columns[1]] - asset_returns[asset_returns.columns[i]]\n",
        "return_diff['Date'] = asset_returns['Date']"
      ],
      "metadata": {
        "id": "KIa4AXX1sUHl"
      },
      "execution_count": 67,
      "outputs": []
    },
    {
      "cell_type": "markdown",
      "source": [
        "#### Test-train split"
      ],
      "metadata": {
        "id": "rA2fYmUV7YkJ"
      }
    },
    {
      "cell_type": "code",
      "source": [
        "# training data (September)\n",
        "y_train = np.asarray(asset_returns['AAPL'].iloc[0:20])  # AAPL = N-th Asset\n",
        "X_train = np.asarray(return_diff.iloc[0:20,:-1])        # Other N-1 = 19 instruments\n",
        "\n",
        "# testing data (October)\n",
        "y_test = np.asarray(asset_returns['AAPL'].iloc[20:40])  # AAPL = N-th Asset\n",
        "X_test = np.asarray(return_diff.iloc[20:40,:-1])        # Other N-1 = 19 instruments"
      ],
      "metadata": {
        "id": "o3Ih0vr1W2BS"
      },
      "execution_count": 68,
      "outputs": []
    },
    {
      "cell_type": "markdown",
      "source": [
        "## OLS"
      ],
      "metadata": {
        "id": "7yLm8uu6oOFT"
      }
    },
    {
      "cell_type": "code",
      "source": [
        "from sklearn.linear_model import LinearRegression\n",
        "from sklearn.metrics import mean_squared_error\n",
        "\n",
        "\n",
        "reg = LinearRegression().fit(X_train, y_train)          # defining linear regression model and fit training data\n",
        "R2 = reg.score(X_train, y_train)                        # R2 score\n",
        "w = reg.coef_                                        # coeff of dependent variables\n",
        "print('Optimal weight for AAPL, AMZN, AVGO, BRK, GOOG, HD, JNJ, JPM, LLY, MA, META, MSFT, NVDA, ORCL, PG, TSLA, UNH, V, WMT, XOM is:')\n",
        "print(w)\n",
        "# ASSUMPTION: sum of coeff of 20 stocks in portfolio = 1\n",
        "print('Optimal weight for AAPL is %s' % (1 - w.sum()))         # coeff of independent variable\n",
        "\n",
        "# Make predictions using the testing data\n",
        "Y_test = reg.predict(X_test)\n",
        "\n",
        "# Calculate the MSE\n",
        "mse_OLS = mean_squared_error(Y_test, y_test)\n",
        "print(\"Mean Squared Error:\", mse_OLS)\n",
        "error_ols = y_test - Y_test"
      ],
      "metadata": {
        "id": "BfU0fAC72muC",
        "colab": {
          "base_uri": "https://localhost:8080/"
        },
        "outputId": "627140a6-6dc7-4108-9a21-91c8b6716b69"
      },
      "execution_count": 69,
      "outputs": [
        {
          "output_type": "stream",
          "name": "stdout",
          "text": [
            "Optimal weight for AAPL, AMZN, AVGO, BRK, GOOG, HD, JNJ, JPM, LLY, MA, META, MSFT, NVDA, ORCL, PG, TSLA, UNH, V, WMT, XOM is:\n",
            "[-0.9788281   1.58793326  5.38312366 -0.6461551   2.30737398 -5.57753984\n",
            "  1.96826782  4.49445909 -3.53519583 -1.50558779 -2.06485595  0.85187537\n",
            "  0.02547746  2.92210982  0.71355491  4.0406317   2.68371525 -9.70237745\n",
            " -1.51843837]\n",
            "Optimal weight for AAPL is -0.44954389073870127\n",
            "Mean Squared Error: 0.027644792462741968\n"
          ]
        }
      ]
    },
    {
      "cell_type": "code",
      "source": [
        "for i in range(0, 19):\n",
        "  print('The error for stock %s is %s' % (return_diff.columns[i], float(y_test[i] - Y_test[i])))"
      ],
      "metadata": {
        "id": "lBrY-Fhe5dyP",
        "colab": {
          "base_uri": "https://localhost:8080/"
        },
        "outputId": "1b3e40e6-cfff-401a-db50-d672a74856fb"
      },
      "execution_count": 70,
      "outputs": [
        {
          "output_type": "stream",
          "name": "stdout",
          "text": [
            "The error for stock AMZN is -0.1628460706530736\n",
            "The error for stock AVGO is 0.02178929437598897\n",
            "The error for stock BRK is 0.250106504292171\n",
            "The error for stock GOOG is 0.42226886351940024\n",
            "The error for stock HD is 0.00685383104322247\n",
            "The error for stock JNJ is 0.06419206346124234\n",
            "The error for stock JPM is 0.22201766373462836\n",
            "The error for stock LLY is 0.018905576064213912\n",
            "The error for stock MA is 0.06554311279341556\n",
            "The error for stock META is -0.0012637165045022419\n",
            "The error for stock MSFT is -0.12506744396420383\n",
            "The error for stock NVDA is 0.0835711890279688\n",
            "The error for stock ORCL is -0.2520183457218433\n",
            "The error for stock PG is 0.020444446884092096\n",
            "The error for stock TSLA is -0.19051103490034205\n",
            "The error for stock UNH is 0.14227248696752165\n",
            "The error for stock V is 0.0237466752951922\n",
            "The error for stock WMT is 0.1966396914205798\n",
            "The error for stock XOM is -0.20394305464517068\n"
          ]
        }
      ]
    },
    {
      "cell_type": "markdown",
      "source": [
        "## Ridge"
      ],
      "metadata": {
        "id": "pFceLa4eoP9g"
      }
    },
    {
      "cell_type": "code",
      "source": [
        "from sklearn.linear_model import Ridge\n",
        "\n",
        "rr = Ridge(alpha=5)           #alpha is the regularization penalty. alpha=1: linear regression\n",
        "rr.fit(X_train, y_train)      # defining ridge regression model and fit training data\n",
        "R2 = rr.score(X_train, y_train)     # R2 score\n",
        "w = rr.coef_                  # coeff of dependent variables\n",
        "print('Optimal weight for AAPL, AMZN, AVGO, BRK, GOOG, HD, JNJ, JPM, LLY, MA, META, MSFT, NVDA, ORCL, PG, TSLA, UNH, V, WMT, XOM is:')\n",
        "print(w)\n",
        "# ASSUMPTION: sum of coeff of 20 stocks in portfolio = 1\n",
        "print('Optimal weight for AAPL is %s' % (1 - w.sum()))         # coeff of independent variable\n",
        "\n",
        "# Make predictions using the testing data\n",
        "Y_test = rr.predict(X_test)\n",
        "\n",
        "# Calculate the MSE\n",
        "mse_ridge = mean_squared_error(Y_test, y_test)\n",
        "print(\"Mean Squared Error:\", mse_ridge)\n",
        "error_ridge = y_test - Y_test"
      ],
      "metadata": {
        "colab": {
          "base_uri": "https://localhost:8080/"
        },
        "id": "xgqvlTWi2SXX",
        "outputId": "bb3e1552-86d0-49bd-9a62-31160416e400"
      },
      "execution_count": 71,
      "outputs": [
        {
          "output_type": "stream",
          "name": "stdout",
          "text": [
            "Optimal weight for AAPL, AMZN, AVGO, BRK, GOOG, HD, JNJ, JPM, LLY, MA, META, MSFT, NVDA, ORCL, PG, TSLA, UNH, V, WMT, XOM is:\n",
            "[0.00042959 0.0003911  0.00078611 0.00040802 0.00078443 0.00074483\n",
            " 0.00073307 0.00087827 0.00075924 0.00034785 0.00044916 0.00025051\n",
            " 0.00033928 0.00076351 0.00034731 0.00079744 0.00078525 0.00092133\n",
            " 0.0008944 ]\n",
            "Optimal weight for AAPL is 0.9881892854373517\n",
            "Mean Squared Error: 0.0001097522741057104\n"
          ]
        }
      ]
    },
    {
      "cell_type": "code",
      "source": [
        "for i in range(0, 19):\n",
        "  print('The error for stock %s is %s' % (return_diff.columns[i], float(y_test[i] - Y_test[i])))"
      ],
      "metadata": {
        "id": "KHUNHB_35g1-",
        "colab": {
          "base_uri": "https://localhost:8080/"
        },
        "outputId": "8bc47915-6c70-4454-bd84-ddab7ae0365d"
      },
      "execution_count": 72,
      "outputs": [
        {
          "output_type": "stream",
          "name": "stdout",
          "text": [
            "The error for stock AMZN is -0.003652726250089876\n",
            "The error for stock AVGO is 0.011483241654655299\n",
            "The error for stock BRK is 0.01130071288934827\n",
            "The error for stock GOOG is 0.018872973769960354\n",
            "The error for stock HD is 0.012581190337208503\n",
            "The error for stock JNJ is 0.000942875907279872\n",
            "The error for stock JPM is 0.012018675616547922\n",
            "The error for stock LLY is 0.009181350649012581\n",
            "The error for stock MA is -0.00597952322317318\n",
            "The error for stock META is 0.0035674120798759633\n",
            "The error for stock MSFT is -0.0045255478403440925\n",
            "The error for stock NVDA is -0.0032270687700435936\n",
            "The error for stock ORCL is 0.0019216271851200195\n",
            "The error for stock PG is -0.010489199976720261\n",
            "The error for stock TSLA is 0.004858409615176995\n",
            "The error for stock UNH is 0.006785524950228631\n",
            "The error for stock V is -0.009256984661206294\n",
            "The error for stock WMT is -0.02034349803145457\n",
            "The error for stock XOM is 0.011992221356423777\n"
          ]
        }
      ]
    },
    {
      "cell_type": "code",
      "source": [
        "#Ridge using Linear Algebra\n",
        "\n",
        "import numpy as np\n",
        "n, m = X_train.shape\n",
        "I = np.identity(m)\n",
        "alpha = 5\n",
        "w = np.dot(np.dot(np.linalg.inv(np.dot(X_train.T, X_train) + alpha * I), X_train.T), y_train)\n",
        "\n",
        "print(w)\n",
        "print(w.sum())"
      ],
      "metadata": {
        "colab": {
          "base_uri": "https://localhost:8080/"
        },
        "id": "Rx1XRPwwe4qH",
        "outputId": "49f3efa0-c6c8-43a7-9afc-6948374d90fd"
      },
      "execution_count": 73,
      "outputs": [
        {
          "output_type": "stream",
          "name": "stdout",
          "text": [
            "[0.00044882 0.00043064 0.0008225  0.00046955 0.00076716 0.00078697\n",
            " 0.00078605 0.00092082 0.00078894 0.00044896 0.00050284 0.00025676\n",
            " 0.00031487 0.00078198 0.00044687 0.00093628 0.00079725 0.00098376\n",
            " 0.00098122]\n",
            "0.012672234421636678\n"
          ]
        }
      ]
    },
    {
      "cell_type": "markdown",
      "source": [
        "## LASSO"
      ],
      "metadata": {
        "id": "av97kMCgoSNf"
      }
    },
    {
      "cell_type": "code",
      "source": [
        "from sklearn import linear_model\n",
        "\n",
        "clf = linear_model.Lasso(alpha=0.1)       # defining lasso regression model\n",
        "clf.fit(X_train,y_train)                  # fit training data\n",
        "w = clf.coef_                             # coeff of dependent variables\n",
        "print('Optimal weight for AAPL, AMZN, AVGO, BRK, GOOG, HD, JNJ, JPM, LLY, MA, META, MSFT, NVDA, ORCL, PG, TSLA, UNH, V, WMT, XOM is:')\n",
        "print(w)\n",
        "# ASSUMPTION: sum of coeff of 20 stocks in portfolio = 1\n",
        "print('Optimal weight for AAPL is %s' % (1 - w.sum()))         # coeff of independent variable\n",
        "print('Intercept:', clf.intercept_)\n",
        "\n",
        "# Make predictions using the testing data\n",
        "Y_test = rr.predict(X_test)\n",
        "\n",
        "# Calculate the MSE\n",
        "mse_lasso = mean_squared_error(Y_test, y_test)\n",
        "print(\"Mean Squared Error:\", mse_lasso)\n",
        "error_lasso = y_test - Y_test"
      ],
      "metadata": {
        "colab": {
          "base_uri": "https://localhost:8080/"
        },
        "id": "fp6UW8bKelLA",
        "outputId": "1bf4f9c1-643c-4a71-bce4-628b8b4d1195"
      },
      "execution_count": 74,
      "outputs": [
        {
          "output_type": "stream",
          "name": "stdout",
          "text": [
            "Optimal weight for AAPL, AMZN, AVGO, BRK, GOOG, HD, JNJ, JPM, LLY, MA, META, MSFT, NVDA, ORCL, PG, TSLA, UNH, V, WMT, XOM is:\n",
            "[0. 0. 0. 0. 0. 0. 0. 0. 0. 0. 0. 0. 0. 0. 0. 0. 0. 0. 0.]\n",
            "Optimal weight for AAPL is 1.0\n",
            "Intercept: -0.004214971505756509\n",
            "Mean Squared Error: 0.0001097522741057104\n"
          ]
        }
      ]
    },
    {
      "cell_type": "code",
      "source": [
        "for i in range(0, 19):\n",
        "  print('The error for stock %s is %s' % (return_diff.columns[i], float(y_test[i] - Y_test[i])))"
      ],
      "metadata": {
        "id": "QMng6pym58Sz",
        "colab": {
          "base_uri": "https://localhost:8080/"
        },
        "outputId": "d6763e49-3f68-4089-943b-13a72bcdb739"
      },
      "execution_count": 75,
      "outputs": [
        {
          "output_type": "stream",
          "name": "stdout",
          "text": [
            "The error for stock AMZN is -0.003652726250089876\n",
            "The error for stock AVGO is 0.011483241654655299\n",
            "The error for stock BRK is 0.01130071288934827\n",
            "The error for stock GOOG is 0.018872973769960354\n",
            "The error for stock HD is 0.012581190337208503\n",
            "The error for stock JNJ is 0.000942875907279872\n",
            "The error for stock JPM is 0.012018675616547922\n",
            "The error for stock LLY is 0.009181350649012581\n",
            "The error for stock MA is -0.00597952322317318\n",
            "The error for stock META is 0.0035674120798759633\n",
            "The error for stock MSFT is -0.0045255478403440925\n",
            "The error for stock NVDA is -0.0032270687700435936\n",
            "The error for stock ORCL is 0.0019216271851200195\n",
            "The error for stock PG is -0.010489199976720261\n",
            "The error for stock TSLA is 0.004858409615176995\n",
            "The error for stock UNH is 0.006785524950228631\n",
            "The error for stock V is -0.009256984661206294\n",
            "The error for stock WMT is -0.02034349803145457\n",
            "The error for stock XOM is 0.011992221356423777\n"
          ]
        }
      ]
    },
    {
      "cell_type": "markdown",
      "source": [
        "## Elastic Net"
      ],
      "metadata": {
        "id": "Ax5N4mOioTYa"
      }
    },
    {
      "cell_type": "code",
      "source": [
        "from sklearn.linear_model import ElasticNet\n",
        "\n",
        "regr = ElasticNet(random_state = 0)         # defining elastic net regression model\n",
        "regr.fit(X_train, y_train)                  # fit training data\n",
        "w = regr.coef_                              # coeff of dependent variables\n",
        "print('Optimal weight for AAPL, AMZN, AVGO, BRK, GOOG, HD, JNJ, JPM, LLY, MA, META, MSFT, NVDA, ORCL, PG, TSLA, UNH, V, WMT, XOM is:')\n",
        "print(w)\n",
        "# ASSUMPTION: sum of coeff of 20 stocks in portfolio = 1\n",
        "print('Optimal weight for AAPL is %s' % (1 - w.sum()))         # coeff of independent variable\n",
        "print('Intercept:', regr.intercept_)\n",
        "\n",
        "# Make predictions using the testing data\n",
        "Y_test = rr.predict(X_test)\n",
        "\n",
        "# Calculate the MSE\n",
        "mse_elasticnet = mean_squared_error(Y_test, y_test)\n",
        "print(\"Mean Squared Error:\", mse_elasticnet)\n",
        "error_elasticnet = y_test - Y_test"
      ],
      "metadata": {
        "colab": {
          "base_uri": "https://localhost:8080/"
        },
        "id": "S0w9jnHifAlZ",
        "outputId": "3867e029-f454-481e-f098-617e42a874ec"
      },
      "execution_count": 76,
      "outputs": [
        {
          "output_type": "stream",
          "name": "stdout",
          "text": [
            "Optimal weight for AAPL, AMZN, AVGO, BRK, GOOG, HD, JNJ, JPM, LLY, MA, META, MSFT, NVDA, ORCL, PG, TSLA, UNH, V, WMT, XOM is:\n",
            "[0. 0. 0. 0. 0. 0. 0. 0. 0. 0. 0. 0. 0. 0. 0. 0. 0. 0. 0.]\n",
            "Optimal weight for AAPL is 1.0\n",
            "Intercept: -0.004214971505756509\n",
            "Mean Squared Error: 0.0001097522741057104\n"
          ]
        }
      ]
    },
    {
      "cell_type": "code",
      "source": [
        "for i in range(0, 19):\n",
        "  print('The error for stock %s is %s' % (return_diff.columns[i], float(y_test[i] - Y_test[i])))"
      ],
      "metadata": {
        "id": "3MEtCXC75-Hh",
        "colab": {
          "base_uri": "https://localhost:8080/"
        },
        "outputId": "2004256e-195b-47c8-853c-67d85dcabb65"
      },
      "execution_count": 77,
      "outputs": [
        {
          "output_type": "stream",
          "name": "stdout",
          "text": [
            "The error for stock AMZN is -0.003652726250089876\n",
            "The error for stock AVGO is 0.011483241654655299\n",
            "The error for stock BRK is 0.01130071288934827\n",
            "The error for stock GOOG is 0.018872973769960354\n",
            "The error for stock HD is 0.012581190337208503\n",
            "The error for stock JNJ is 0.000942875907279872\n",
            "The error for stock JPM is 0.012018675616547922\n",
            "The error for stock LLY is 0.009181350649012581\n",
            "The error for stock MA is -0.00597952322317318\n",
            "The error for stock META is 0.0035674120798759633\n",
            "The error for stock MSFT is -0.0045255478403440925\n",
            "The error for stock NVDA is -0.0032270687700435936\n",
            "The error for stock ORCL is 0.0019216271851200195\n",
            "The error for stock PG is -0.010489199976720261\n",
            "The error for stock TSLA is 0.004858409615176995\n",
            "The error for stock UNH is 0.006785524950228631\n",
            "The error for stock V is -0.009256984661206294\n",
            "The error for stock WMT is -0.02034349803145457\n",
            "The error for stock XOM is 0.011992221356423777\n"
          ]
        }
      ]
    },
    {
      "cell_type": "markdown",
      "source": [
        "### Plotting errors for each model"
      ],
      "metadata": {
        "id": "zkmjx8f_B6Z1"
      }
    },
    {
      "cell_type": "code",
      "source": [
        "x = range(1, 21)\n",
        "fig, ax = plt.subplots()\n",
        "plt.plot(x, error_ols, 'b', x, error_ridge, 'g', x, error_lasso, 'y', x, error_elasticnet, 'black')\n",
        "plt.legend(['OLS', 'Ridge', 'Lasso', 'Elastic Net'])\n",
        "ax.set_xticks(x)\n",
        "plt.show()\n",
        "\n"
      ],
      "metadata": {
        "id": "rjXSpgU2CAul",
        "colab": {
          "base_uri": "https://localhost:8080/",
          "height": 430
        },
        "outputId": "040c0f1f-6f3e-435c-e971-ca733b70f881"
      },
      "execution_count": 87,
      "outputs": [
        {
          "output_type": "display_data",
          "data": {
            "text/plain": [
              "<Figure size 640x480 with 1 Axes>"
            ],
            "image/png": "[encoded data removed]"
          },
          "metadata": {}
        }
      ]
    }
  ]
}