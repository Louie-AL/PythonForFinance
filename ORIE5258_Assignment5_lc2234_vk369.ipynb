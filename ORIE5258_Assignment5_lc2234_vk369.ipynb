{
  "nbformat": 4,
  "nbformat_minor": 0,
  "metadata": {
    "colab": {
      "provenance": []
    },
    "kernelspec": {
      "name": "python3",
      "display_name": "Python 3"
    },
    "language_info": {
      "name": "python"
    }
  },
  "cells": [
    {
      "cell_type": "markdown",
      "source": [
        "# ORIE 5258 / Homework 5: Random Forests\n",
        "\n",
        "#### Students: Vishakha Korde (vk369) and Luis Alonso Cendra Villalobos (lc2234)"
      ],
      "metadata": {
        "id": "qgPbRrBcp-lb"
      }
    },
    {
      "cell_type": "markdown",
      "source": [
        "**Stocks chosen:** AAPL, AMZN, BRK, GOOG, META, MSFT, NVDA, TSLA, UNH, XOM\n",
        "\n",
        "**Stock to be predicted:** AAPL\n",
        "\n",
        "**Time series:**\n",
        "\n",
        "Start = 1/1/2018\n",
        "\n",
        "End = 11/04/2023"
      ],
      "metadata": {
        "id": "Gsos1uXzt961"
      }
    },
    {
      "cell_type": "code",
      "source": [
        "from google.colab import drive\n",
        "drive.mount('/content/drive/')"
      ],
      "metadata": {
        "colab": {
          "base_uri": "https://localhost:8080/"
        },
        "id": "7VCig9tJUSph",
        "outputId": "8da6c5d4-72db-4aba-85a2-0a3b8085644c"
      },
      "execution_count": 150,
      "outputs": [
        {
          "output_type": "stream",
          "name": "stdout",
          "text": [
            "Drive already mounted at /content/drive/; to attempt to forcibly remount, call drive.mount(\"/content/drive/\", force_remount=True).\n"
          ]
        }
      ]
    },
    {
      "cell_type": "code",
      "source": [
        "import numpy as np\n",
        "import matplotlib.pyplot as plt\n",
        "import pandas as pd\n",
        "from scipy.ndimage import shift\n"
      ],
      "metadata": {
        "id": "uUOvkPVNcgAe"
      },
      "execution_count": 151,
      "outputs": []
    },
    {
      "cell_type": "code",
      "execution_count": 152,
      "metadata": {
        "id": "6OyXIE_Y9pnh"
      },
      "outputs": [],
      "source": [
        "# creating pandas dataframe for each stock\n",
        "\n",
        "path = '/content/drive/MyDrive/ORIE5258 - Python for Finance/HW3/'\n",
        "\n",
        "AAPL = pd.read_csv(path + 'AAPL.csv')\n",
        "AAPL.Name = 'AAPL'\n",
        "AMZN = pd.read_csv(path + 'AMZN.csv')\n",
        "AMZN.Name = 'AMZN'\n",
        "BRK  = pd.read_csv(path + 'BRK.csv')\n",
        "BRK.Name = 'BRK'\n",
        "GOOG = pd.read_csv(path + 'GOOG.csv')\n",
        "GOOG.Name = 'GOOG'\n",
        "META = pd.read_csv(path + 'META.csv')\n",
        "META.Name = 'META'\n",
        "MSFT = pd.read_csv(path + 'MSFT.csv')\n",
        "MSFT.Name = 'MSFT'\n",
        "NVDA = pd.read_csv(path + 'NVDA.csv')\n",
        "NVDA.Name = 'NVDA'\n",
        "TSLA = pd.read_csv(path + 'TSLA.csv')\n",
        "TSLA.Name = 'TSLA'\n",
        "UNH  = pd.read_csv(path + 'UNH.csv')\n",
        "UNH.Name = 'UNH'\n",
        "XOM  = pd.read_csv(path + 'XOM.csv')\n",
        "XOM.Name = 'XOM'\n"
      ]
    },
    {
      "cell_type": "code",
      "source": [
        "# List of stocks\n",
        "dataframes = [AAPL, AMZN, BRK, GOOG, META, MSFT, NVDA, TSLA, UNH, XOM]\n",
        "\n",
        "# Filter Adj Cls for each stock\n",
        "for df in dataframes:\n",
        "    df[df.Name] = df['Adj Close']"
      ],
      "metadata": {
        "id": "xk6ZNAeTZUK-"
      },
      "execution_count": 153,
      "outputs": []
    },
    {
      "cell_type": "code",
      "source": [
        "# Merge DataFrames for all asset prices\n",
        "for df in dataframes:\n",
        "  asset_prices = pd.concat([AAPL['Date'], AAPL['AAPL'], AMZN['AMZN'],\n",
        "                            BRK['BRK'], GOOG['GOOG'], META['META'], MSFT['MSFT'],\n",
        "                            NVDA['NVDA'], TSLA['TSLA'], UNH['UNH'],\n",
        "                            XOM['XOM']], axis=1)\n",
        "\n",
        "# Calculate returns data for 1 day window\n",
        "\n",
        "# Computing % returns for each stock\n",
        "for df in dataframes:\n",
        "    df[df.Name] = df['Adj Close'].shift(-1) / df['Adj Close'] - 1\n",
        "\n",
        "\n",
        "# Merge DataFrames for all asset returns\n",
        "for df in dataframes:\n",
        "  asset_returns = pd.concat([AAPL['Date'], AAPL['AAPL'], AMZN['AMZN'],\n",
        "                             BRK['BRK'], GOOG['GOOG'], META['META'], MSFT['MSFT'],\n",
        "                             NVDA['NVDA'], TSLA['TSLA'], UNH['UNH'],\n",
        "                             XOM['XOM']], axis=1)\n",
        "\n",
        "# Fill NaN values with zeros\n",
        "asset_returns = asset_returns.fillna(0)\n",
        "\n",
        "#Remove the last line because its filled with zeros\n",
        "asset_returns = asset_returns.iloc[:-1]\n",
        "\n",
        "# Print the asset returns\n",
        "print(asset_returns.iloc[:, :])\n"
      ],
      "metadata": {
        "colab": {
          "base_uri": "https://localhost:8080/"
        },
        "id": "qz6BPVmbZqZK",
        "outputId": "198e887e-573e-44c8-9195-6ea6e2639b54"
      },
      "execution_count": 154,
      "outputs": [
        {
          "output_type": "stream",
          "name": "stdout",
          "text": [
            "            Date      AAPL      AMZN       BRK      GOOG      META      MSFT  \\\n",
            "0     2018-01-02 -0.000174  0.012775  0.013031  0.016413  0.017914  0.004654   \n",
            "1     2018-01-03  0.004645  0.004476  0.004505  0.003621 -0.001841  0.008802   \n",
            "2     2018-01-04  0.011386  0.016163  0.003637  0.014571  0.013671  0.012398   \n",
            "3     2018-01-05 -0.003714  0.014425  0.006554  0.004273  0.007653  0.001020   \n",
            "4     2018-01-08 -0.000115  0.004676  0.001381 -0.000614 -0.002178 -0.000680   \n",
            "...          ...       ...       ...       ...       ...       ...       ...   \n",
            "1465  2023-10-27  0.012305  0.038907  0.017184  0.019044  0.019984  0.022740   \n",
            "1466  2023-10-30  0.002819  0.002863  0.011618 -0.003579 -0.004593  0.002372   \n",
            "1467  2023-10-31  0.018739  0.029379  0.007090  0.018116  0.035118  0.023543   \n",
            "1468  2023-11-01  0.020693  0.007810  0.015331  0.007917 -0.003143  0.006502   \n",
            "1469  2023-11-02 -0.005181  0.003839  0.007994  0.013921  0.011999  0.012862   \n",
            "\n",
            "          NVDA      TSLA       UNH       XOM  \n",
            "0     0.065814 -0.010233  0.010490  0.019640  \n",
            "1     0.005271 -0.008290  0.004340  0.001384  \n",
            "2     0.008474  0.006230  0.019069 -0.000806  \n",
            "3     0.030641  0.062638 -0.017357  0.004496  \n",
            "4    -0.000270 -0.008085  0.004983 -0.004246  \n",
            "...        ...       ...       ...       ...  \n",
            "1465  0.016321 -0.047950  0.010159  0.003126  \n",
            "1466 -0.009256  0.017633  0.010510 -0.000283  \n",
            "1467  0.037886  0.023999 -0.007394 -0.001984  \n",
            "1468  0.027903  0.062482  0.008521  0.032847  \n",
            "1469  0.034455  0.006636 -0.009755 -0.012190  \n",
            "\n",
            "[1470 rows x 11 columns]\n"
          ]
        }
      ]
    },
    {
      "cell_type": "code",
      "source": [
        "# Definition of classes according to sgn(AAPL_returns)\n",
        "\n",
        "asset_returns.loc[asset_returns['AAPL'] < 0, 'y'] = 0 # negative class\n",
        "asset_returns.loc[(asset_returns['AAPL'] >= 0), 'y'] = 1 # non-negative class\n",
        "\n",
        "#Drop the AAPL column\n",
        "asset_returns = asset_returns.drop(['AAPL'], axis=1)\n",
        "\n",
        "print(asset_returns)"
      ],
      "metadata": {
        "colab": {
          "base_uri": "https://localhost:8080/"
        },
        "id": "WuEPOXQ0cMaJ",
        "outputId": "b98aa6c6-3fa7-400e-ef72-3a600bd69cce"
      },
      "execution_count": 155,
      "outputs": [
        {
          "output_type": "stream",
          "name": "stdout",
          "text": [
            "            Date      AMZN       BRK      GOOG      META      MSFT      NVDA  \\\n",
            "0     2018-01-02  0.012775  0.013031  0.016413  0.017914  0.004654  0.065814   \n",
            "1     2018-01-03  0.004476  0.004505  0.003621 -0.001841  0.008802  0.005271   \n",
            "2     2018-01-04  0.016163  0.003637  0.014571  0.013671  0.012398  0.008474   \n",
            "3     2018-01-05  0.014425  0.006554  0.004273  0.007653  0.001020  0.030641   \n",
            "4     2018-01-08  0.004676  0.001381 -0.000614 -0.002178 -0.000680 -0.000270   \n",
            "...          ...       ...       ...       ...       ...       ...       ...   \n",
            "1465  2023-10-27  0.038907  0.017184  0.019044  0.019984  0.022740  0.016321   \n",
            "1466  2023-10-30  0.002863  0.011618 -0.003579 -0.004593  0.002372 -0.009256   \n",
            "1467  2023-10-31  0.029379  0.007090  0.018116  0.035118  0.023543  0.037886   \n",
            "1468  2023-11-01  0.007810  0.015331  0.007917 -0.003143  0.006502  0.027903   \n",
            "1469  2023-11-02  0.003839  0.007994  0.013921  0.011999  0.012862  0.034455   \n",
            "\n",
            "          TSLA       UNH       XOM    y  \n",
            "0    -0.010233  0.010490  0.019640  0.0  \n",
            "1    -0.008290  0.004340  0.001384  1.0  \n",
            "2     0.006230  0.019069 -0.000806  1.0  \n",
            "3     0.062638 -0.017357  0.004496  0.0  \n",
            "4    -0.008085  0.004983 -0.004246  0.0  \n",
            "...        ...       ...       ...  ...  \n",
            "1465 -0.047950  0.010159  0.003126  1.0  \n",
            "1466  0.017633  0.010510 -0.000283  1.0  \n",
            "1467  0.023999 -0.007394 -0.001984  1.0  \n",
            "1468  0.062482  0.008521  0.032847  1.0  \n",
            "1469  0.006636 -0.009755 -0.012190  0.0  \n",
            "\n",
            "[1470 rows x 11 columns]\n"
          ]
        }
      ]
    },
    {
      "cell_type": "code",
      "source": [
        "# Splitting - Testing data\n",
        "\n",
        "from sklearn.model_selection import train_test_split\n",
        "\n",
        "X = asset_returns.drop(['y', 'Date'], axis=1)\n",
        "y = asset_returns['y']\n",
        "X_train, X_test, y_train, y_test = train_test_split(X, y, test_size=0.3, random_state=1, stratify=y)"
      ],
      "metadata": {
        "id": "bI-nP0HHAZFu"
      },
      "execution_count": 156,
      "outputs": []
    },
    {
      "cell_type": "markdown",
      "source": [
        "## 1) Bagging"
      ],
      "metadata": {
        "id": "xQV4s_wMEYHk"
      }
    },
    {
      "cell_type": "code",
      "source": [
        "# Bagging\n",
        "\n",
        "from sklearn.ensemble import RandomForestClassifier\n",
        "from sklearn.ensemble import RandomForestRegressor\n",
        "\n",
        "forest = RandomForestClassifier(max_depth=2, random_state=0)\n",
        "forest.fit(X_train, y_train)\n",
        "\n",
        "# Instantiate model with 1000 decision trees\n",
        "rf = RandomForestRegressor(n_estimators = 1000, random_state = 42)\n",
        "# Train the model on training data\n",
        "rf.fit(X_train, y_train)\n",
        "\n",
        "print(rf)"
      ],
      "metadata": {
        "colab": {
          "base_uri": "https://localhost:8080/"
        },
        "id": "2TX6InVvZvnR",
        "outputId": "cff4818b-0b95-47bd-863d-1ef4e4f276e9"
      },
      "execution_count": 157,
      "outputs": [
        {
          "output_type": "stream",
          "name": "stdout",
          "text": [
            "RandomForestRegressor(n_estimators=1000, random_state=42)\n"
          ]
        }
      ]
    },
    {
      "cell_type": "code",
      "source": [
        "# Measure model performance\n",
        "\n",
        "from sklearn.metrics import accuracy_score, confusion_matrix\n",
        "y_pred = forest.predict(X_test)\n",
        "print('Accuracy: %.3f' % accuracy_score(y_test, y_pred))\n",
        "\n",
        "cm = confusion_matrix(y_test, y_pred)\n",
        "print('cm = ', cm)\n",
        "print('cm[0,0] = ', cm[0,0])"
      ],
      "metadata": {
        "colab": {
          "base_uri": "https://localhost:8080/"
        },
        "id": "ltlmzpk7eCZL",
        "outputId": "6794a88a-08f4-4c54-f516-ab13b657c28a"
      },
      "execution_count": 158,
      "outputs": [
        {
          "output_type": "stream",
          "name": "stdout",
          "text": [
            "Accuracy: 0.760\n",
            "cm =  [[138  67]\n",
            " [ 39 197]]\n",
            "cm[0,0] =  138\n"
          ]
        }
      ]
    },
    {
      "cell_type": "markdown",
      "source": [
        "## 2) Boosting"
      ],
      "metadata": {
        "id": "V3OZTWlYFvba"
      }
    },
    {
      "cell_type": "code",
      "source": [
        "# sklearn.ensemble.GradientBoostingClassifier¶\n",
        "from xgboost import XGBRFClassifier\n",
        "\n",
        "gbc = XGBRFClassifier(n_estimators=100, learning_rate=1.0, max_depth=1, random_state=0).fit(X_train, y_train)\n",
        "\n",
        "# Measure model performance\n",
        "from sklearn.metrics import accuracy_score\n",
        "y_pred = gbc.predict(X_test)\n",
        "print('Accuracy: %.3f' % accuracy_score(y_test, y_pred))\n",
        "\n",
        "cm = confusion_matrix(y_test, y_pred)\n",
        "print('cm = ', cm)\n",
        "print('cm[0,0] = ', cm[0,0])"
      ],
      "metadata": {
        "colab": {
          "base_uri": "https://localhost:8080/"
        },
        "id": "9ke76IXHf3JI",
        "outputId": "78676be6-7923-483a-c193-9d0e9ccb7de7"
      },
      "execution_count": 159,
      "outputs": [
        {
          "output_type": "stream",
          "name": "stdout",
          "text": [
            "Accuracy: 0.760\n",
            "cm =  [[153  52]\n",
            " [ 54 182]]\n",
            "cm[0,0] =  153\n"
          ]
        }
      ]
    },
    {
      "cell_type": "markdown",
      "source": [
        "## 3) Stacking"
      ],
      "metadata": {
        "id": "rqfKncf8Gy3P"
      }
    },
    {
      "cell_type": "code",
      "source": [
        "\n",
        "from sklearn.ensemble import StackingClassifier\n",
        "estimators = [('rf', RandomForestClassifier(n_estimators=10, random_state=42)),\n",
        " ('rf100', RandomForestClassifier(n_estimators=100, random_state=42)),\n",
        " ('rf20', RandomForestClassifier(n_estimators=20, random_state=42))]\n",
        "model = StackingClassifier(estimators=estimators)\n",
        "model.fit(X_train, y_train)\n",
        "y_pred = model.predict(X_test)\n",
        "\n",
        "print('Accuracy: %.3f' % accuracy_score(y_test, y_pred))\n",
        "\n",
        "cm = confusion_matrix(y_test, y_pred)\n",
        "print('cm = ', cm)\n",
        "print('cm[0,0] = ', cm[0,0])"
      ],
      "metadata": {
        "colab": {
          "base_uri": "https://localhost:8080/"
        },
        "id": "r-Vuo1H-HArT",
        "outputId": "413d02c4-b9bd-4dce-8af3-870ff882095a"
      },
      "execution_count": 160,
      "outputs": [
        {
          "output_type": "stream",
          "name": "stdout",
          "text": [
            "Accuracy: 0.762\n",
            "cm =  [[144  61]\n",
            " [ 44 192]]\n",
            "cm[0,0] =  144\n"
          ]
        }
      ]
    },
    {
      "cell_type": "markdown",
      "source": [
        "# Appendix\n",
        "\n",
        "## 1) Additional work on Bagging"
      ],
      "metadata": {
        "id": "kaY1yu3qEr3Z"
      }
    },
    {
      "cell_type": "code",
      "source": [
        "# 1) ExtraTreesClassifier\n",
        "\n",
        "from sklearn.ensemble import ExtraTreesClassifier\n",
        "extra = ExtraTreesClassifier(n_estimators=100, random_state=0)\n",
        "extra.fit(X_train, y_train)\n",
        "extra.predict(X_test)"
      ],
      "metadata": {
        "colab": {
          "base_uri": "https://localhost:8080/"
        },
        "id": "FErEnrlXboJI",
        "outputId": "610da3d1-2fff-48fc-8bd7-fe52018c2a79"
      },
      "execution_count": 140,
      "outputs": [
        {
          "output_type": "execute_result",
          "data": {
            "text/plain": [
              "array([1., 1., 0., 0., 1., 0., 0., 1., 0., 1., 1., 0., 1., 0., 1., 0., 1.,\n",
              "       1., 1., 0., 1., 1., 0., 1., 1., 0., 1., 1., 1., 0., 1., 0., 1., 1.,\n",
              "       1., 1., 1., 1., 0., 0., 1., 1., 0., 0., 1., 1., 1., 1., 0., 1., 1.,\n",
              "       1., 0., 0., 1., 0., 1., 1., 0., 1., 1., 1., 0., 0., 0., 0., 0., 1.,\n",
              "       0., 0., 1., 1., 0., 0., 1., 1., 0., 1., 0., 1., 1., 1., 0., 1., 1.,\n",
              "       1., 0., 1., 1., 1., 1., 1., 1., 1., 1., 0., 0., 0., 0., 1., 0., 1.,\n",
              "       0., 1., 1., 1., 1., 0., 1., 0., 1., 1., 1., 1., 1., 1., 0., 0., 1.,\n",
              "       1., 1., 1., 1., 0., 0., 1., 0., 1., 0., 1., 1., 0., 1., 1., 1., 0.,\n",
              "       1., 1., 1., 0., 1., 1., 0., 0., 0., 0., 0., 1., 1., 0., 1., 0., 0.,\n",
              "       1., 0., 1., 0., 1., 1., 1., 1., 1., 0., 0., 0., 0., 0., 0., 1., 1.,\n",
              "       1., 1., 0., 0., 1., 1., 1., 0., 1., 1., 0., 1., 1., 1., 1., 1., 0.,\n",
              "       0., 0., 0., 0., 0., 1., 1., 1., 0., 1., 0., 0., 0., 1., 0., 1., 1.,\n",
              "       1., 0., 0., 0., 1., 1., 0., 1., 1., 0., 1., 0., 0., 0., 1., 1., 1.,\n",
              "       1., 1., 1., 1., 0., 1., 1., 0., 1., 0., 0., 0., 0., 1., 0., 0., 0.,\n",
              "       1., 1., 1., 1., 0., 1., 0., 0., 0., 1., 1., 0., 0., 0., 1., 1., 1.,\n",
              "       0., 0., 1., 1., 1., 1., 1., 0., 1., 1., 0., 1., 1., 0., 0., 0., 1.,\n",
              "       1., 1., 1., 0., 0., 1., 0., 0., 0., 0., 1., 0., 1., 1., 1., 1., 1.,\n",
              "       0., 1., 1., 0., 1., 1., 0., 1., 0., 0., 0., 1., 1., 0., 1., 0., 1.,\n",
              "       0., 0., 0., 0., 0., 1., 0., 0., 0., 0., 0., 1., 0., 0., 1., 1., 0.,\n",
              "       1., 1., 1., 0., 1., 0., 1., 1., 0., 1., 1., 1., 1., 1., 0., 0., 1.,\n",
              "       1., 1., 1., 0., 0., 1., 1., 1., 1., 1., 1., 0., 1., 1., 1., 1., 1.,\n",
              "       0., 1., 0., 0., 1., 0., 0., 1., 1., 0., 0., 1., 0., 1., 1., 1., 0.,\n",
              "       0., 0., 1., 1., 1., 1., 0., 1., 0., 1., 0., 0., 1., 1., 1., 0., 1.,\n",
              "       0., 0., 1., 0., 0., 1., 1., 1., 1., 0., 1., 0., 1., 1., 1., 1., 1.,\n",
              "       0., 1., 1., 1., 1., 0., 1., 0., 0., 1., 0., 1., 1., 0., 1., 1., 1.,\n",
              "       0., 1., 1., 1., 0., 1., 0., 0., 0., 1., 0., 1., 0., 1., 1., 1.])"
            ]
          },
          "metadata": {},
          "execution_count": 140
        }
      ]
    },
    {
      "cell_type": "code",
      "source": [
        "# Measure model performance\n",
        "\n",
        "from sklearn.metrics import accuracy_score\n",
        "y_pred = extra.predict(X_test)\n",
        "print('Accuracy: %.3f' % accuracy_score(y_test, y_pred))\n",
        "\n",
        "cm = confusion_matrix(y_test, y_pred)\n",
        "print('cm = ', cm)\n",
        "print('cm[0,0] = ', cm[0,0])"
      ],
      "metadata": {
        "colab": {
          "base_uri": "https://localhost:8080/"
        },
        "id": "ZRS8zUADGk_D",
        "outputId": "1859b02a-4595-4af3-e8b7-a14fd5183594"
      },
      "execution_count": 141,
      "outputs": [
        {
          "output_type": "stream",
          "name": "stdout",
          "text": [
            "Accuracy: 0.778\n",
            "cm =  [[146  59]\n",
            " [ 39 197]]\n",
            "cm[0,0] =  146\n"
          ]
        }
      ]
    },
    {
      "cell_type": "code",
      "source": [
        "# 2) BaggingClassifier\n",
        "\n",
        "from sklearn.svm import SVC\n",
        "from sklearn.ensemble import BaggingClassifier\n",
        "bag = BaggingClassifier(estimator=SVC(), n_estimators=10, random_state=0).fit(X_train, y_train)"
      ],
      "metadata": {
        "id": "rLjbDhTEgGuf"
      },
      "execution_count": 142,
      "outputs": []
    },
    {
      "cell_type": "code",
      "source": [
        "# Measure model performance\n",
        "\n",
        "from sklearn.metrics import accuracy_score\n",
        "y_pred = bag.predict(X_test)\n",
        "print('Accuracy: %.3f' % accuracy_score(y_test, y_pred))\n",
        "\n",
        "cm = confusion_matrix(y_test, y_pred)\n",
        "print('cm = ', cm)\n",
        "print('cm[0,0] = ', cm[0,0])"
      ],
      "metadata": {
        "colab": {
          "base_uri": "https://localhost:8080/"
        },
        "id": "ddqgvNbMgm56",
        "outputId": "1d069986-dc7f-4ae4-97ca-3955d5651e84"
      },
      "execution_count": 143,
      "outputs": [
        {
          "output_type": "stream",
          "name": "stdout",
          "text": [
            "Accuracy: 0.766\n",
            "cm =  [[145  60]\n",
            " [ 43 193]]\n",
            "cm[0,0] =  145\n"
          ]
        }
      ]
    },
    {
      "cell_type": "markdown",
      "source": [
        "## 2) Additional work on Boosting"
      ],
      "metadata": {
        "id": "iJ6-QEegF6pl"
      }
    },
    {
      "cell_type": "code",
      "source": [
        "\n",
        "# 1) GradientBoostingClassifier¶\n",
        "from sklearn.ensemble import GradientBoostingClassifier\n",
        "\n",
        "gbooc = GradientBoostingClassifier(n_estimators=100, learning_rate=1.0, max_depth=1, random_state=0).fit(X_train, y_train)\n",
        "\n",
        "# Measure model performance\n",
        "from sklearn.metrics import accuracy_score\n",
        "y_pred = gbooc.predict(X_test)\n",
        "print('Accuracy: %.3f' % accuracy_score(y_test, y_pred))\n",
        "\n",
        "cm = confusion_matrix(y_test, y_pred)\n",
        "print('cm = ', cm)\n",
        "print('cm[0,0] = ', cm[0,0])"
      ],
      "metadata": {
        "id": "jz-sfVWNfpBE",
        "colab": {
          "base_uri": "https://localhost:8080/"
        },
        "outputId": "a93193cd-e079-4af9-d221-4ea5abcc99d4"
      },
      "execution_count": 144,
      "outputs": [
        {
          "output_type": "stream",
          "name": "stdout",
          "text": [
            "Accuracy: 0.771\n",
            "cm =  [[143  62]\n",
            " [ 39 197]]\n",
            "cm[0,0] =  143\n"
          ]
        }
      ]
    },
    {
      "cell_type": "code",
      "source": [
        "# 2) HistGradientBoostingClassifier\n",
        "\n",
        "from sklearn.ensemble import HistGradientBoostingClassifier\n",
        "from sklearn.datasets import make_hastie_10_2\n",
        "\n",
        "hist_gbooc = HistGradientBoostingClassifier(max_iter=100).fit(X_train, y_train)"
      ],
      "metadata": {
        "id": "U0If1NEzdDvK"
      },
      "execution_count": 145,
      "outputs": []
    },
    {
      "cell_type": "code",
      "source": [
        "# Measure model performance\n",
        "from sklearn.metrics import accuracy_score\n",
        "y_pred = hist_gbooc.predict(X_test)\n",
        "print('Accuracy: %.3f' % accuracy_score(y_test, y_pred))\n",
        "\n",
        "cm = confusion_matrix(y_test, y_pred)\n",
        "print('cm = ', cm)\n",
        "print('cm[0,0] = ', cm[0,0])"
      ],
      "metadata": {
        "id": "ys_whQoFdLr6",
        "outputId": "e203e7bd-4dec-43f3-d29c-15479ee0963e",
        "colab": {
          "base_uri": "https://localhost:8080/"
        }
      },
      "execution_count": 146,
      "outputs": [
        {
          "output_type": "stream",
          "name": "stdout",
          "text": [
            "Accuracy: 0.773\n",
            "cm =  [[145  60]\n",
            " [ 40 196]]\n",
            "cm[0,0] =  145\n"
          ]
        }
      ]
    },
    {
      "cell_type": "markdown",
      "source": [
        "## 3) Additional work on Stacking"
      ],
      "metadata": {
        "id": "znMBHwn-HM2-"
      }
    },
    {
      "cell_type": "code",
      "source": [
        "# 3) Stacking\n",
        "# sklearn.ensemble.StackingClassifier\n",
        "\n",
        "from sklearn.datasets import load_iris\n",
        "from sklearn.ensemble import RandomForestClassifier, GradientBoostingClassifier, StackingClassifier\n",
        "from sklearn.svm import SVC\n",
        "from sklearn.linear_model import LogisticRegression\n",
        "from sklearn.model_selection import train_test_split\n",
        "from sklearn.metrics import accuracy_score\n",
        "\n",
        "# Define base classifiers\n",
        "rf_classifier = RandomForestClassifier(n_estimators=50, random_state=42)\n",
        "gb_classifier = GradientBoostingClassifier(n_estimators=50, random_state=42)\n",
        "svc_classifier = SVC(probability=True, random_state=42)\n",
        "\n",
        "# Define the meta-classifier\n",
        "meta_classifier = LogisticRegression(random_state=42)\n",
        "\n",
        "# Create the stacking classifier\n",
        "stacking_classifier = StackingClassifier(\n",
        "    estimators=[('rf', rf_classifier), ('gb', gb_classifier), ('svc', svc_classifier)],\n",
        "    final_estimator=meta_classifier,\n",
        "    stack_method='auto',  # You can also specify the method for feature stacking\n",
        "    cv=5  # Number of cross-validation folds\n",
        ")\n",
        "\n",
        "# Fit the stacking classifier on the training data\n",
        "stacking_classifier.fit(X_train, y_train)\n",
        "\n"
      ],
      "metadata": {
        "colab": {
          "base_uri": "https://localhost:8080/",
          "height": 161
        },
        "id": "ezdfv5KMgraY",
        "outputId": "73f2cef8-8f4e-470a-9199-6e6206b17c88"
      },
      "execution_count": 147,
      "outputs": [
        {
          "output_type": "execute_result",
          "data": {
            "text/plain": [
              "StackingClassifier(cv=5,\n",
              "                   estimators=[('rf',\n",
              "                                RandomForestClassifier(n_estimators=50,\n",
              "                                                       random_state=42)),\n",
              "                               ('gb',\n",
              "                                GradientBoostingClassifier(n_estimators=50,\n",
              "                                                           random_state=42)),\n",
              "                               ('svc', SVC(probability=True, random_state=42))],\n",
              "                   final_estimator=LogisticRegression(random_state=42))"
            ],
            "text/html": [
              "<style>#sk-container-id-4 {color: black;background-color: white;}#sk-container-id-4 pre{padding: 0;}#sk-container-id-4 div.sk-toggleable {background-color: white;}#sk-container-id-4 label.sk-toggleable__label {cursor: pointer;display: block;width: 100%;margin-bottom: 0;padding: 0.3em;box-sizing: border-box;text-align: center;}#sk-container-id-4 label.sk-toggleable__label-arrow:before {content: \"▸\";float: left;margin-right: 0.25em;color: #696969;}#sk-container-id-4 label.sk-toggleable__label-arrow:hover:before {color: black;}#sk-container-id-4 div.sk-estimator:hover label.sk-toggleable__label-arrow:before {color: black;}#sk-container-id-4 div.sk-toggleable__content {max-height: 0;max-width: 0;overflow: hidden;text-align: left;background-color: #f0f8ff;}#sk-container-id-4 div.sk-toggleable__content pre {margin: 0.2em;color: black;border-radius: 0.25em;background-color: #f0f8ff;}#sk-container-id-4 input.sk-toggleable__control:checked~div.sk-toggleable__content {max-height: 200px;max-width: 100%;overflow: auto;}#sk-container-id-4 input.sk-toggleable__control:checked~label.sk-toggleable__label-arrow:before {content: \"▾\";}#sk-container-id-4 div.sk-estimator input.sk-toggleable__control:checked~label.sk-toggleable__label {background-color: #d4ebff;}#sk-container-id-4 div.sk-label input.sk-toggleable__control:checked~label.sk-toggleable__label {background-color: #d4ebff;}#sk-container-id-4 input.sk-hidden--visually {border: 0;clip: rect(1px 1px 1px 1px);clip: rect(1px, 1px, 1px, 1px);height: 1px;margin: -1px;overflow: hidden;padding: 0;position: absolute;width: 1px;}#sk-container-id-4 div.sk-estimator {font-family: monospace;background-color: #f0f8ff;border: 1px dotted black;border-radius: 0.25em;box-sizing: border-box;margin-bottom: 0.5em;}#sk-container-id-4 div.sk-estimator:hover {background-color: #d4ebff;}#sk-container-id-4 div.sk-parallel-item::after {content: \"\";width: 100%;border-bottom: 1px solid gray;flex-grow: 1;}#sk-container-id-4 div.sk-label:hover label.sk-toggleable__label {background-color: #d4ebff;}#sk-container-id-4 div.sk-serial::before {content: \"\";position: absolute;border-left: 1px solid gray;box-sizing: border-box;top: 0;bottom: 0;left: 50%;z-index: 0;}#sk-container-id-4 div.sk-serial {display: flex;flex-direction: column;align-items: center;background-color: white;padding-right: 0.2em;padding-left: 0.2em;position: relative;}#sk-container-id-4 div.sk-item {position: relative;z-index: 1;}#sk-container-id-4 div.sk-parallel {display: flex;align-items: stretch;justify-content: center;background-color: white;position: relative;}#sk-container-id-4 div.sk-item::before, #sk-container-id-4 div.sk-parallel-item::before {content: \"\";position: absolute;border-left: 1px solid gray;box-sizing: border-box;top: 0;bottom: 0;left: 50%;z-index: -1;}#sk-container-id-4 div.sk-parallel-item {display: flex;flex-direction: column;z-index: 1;position: relative;background-color: white;}#sk-container-id-4 div.sk-parallel-item:first-child::after {align-self: flex-end;width: 50%;}#sk-container-id-4 div.sk-parallel-item:last-child::after {align-self: flex-start;width: 50%;}#sk-container-id-4 div.sk-parallel-item:only-child::after {width: 0;}#sk-container-id-4 div.sk-dashed-wrapped {border: 1px dashed gray;margin: 0 0.4em 0.5em 0.4em;box-sizing: border-box;padding-bottom: 0.4em;background-color: white;}#sk-container-id-4 div.sk-label label {font-family: monospace;font-weight: bold;display: inline-block;line-height: 1.2em;}#sk-container-id-4 div.sk-label-container {text-align: center;}#sk-container-id-4 div.sk-container {/* jupyter's `normalize.less` sets `[hidden] { display: none; }` but bootstrap.min.css set `[hidden] { display: none !important; }` so we also need the `!important` here to be able to override the default hidden behavior on the sphinx rendered scikit-learn.org. See: https://github.com/scikit-learn/scikit-learn/issues/21755 */display: inline-block !important;position: relative;}#sk-container-id-4 div.sk-text-repr-fallback {display: none;}</style><div id=\"sk-container-id-4\" class=\"sk-top-container\"><div class=\"sk-text-repr-fallback\"><pre>StackingClassifier(cv=5,\n",
              "                   estimators=[(&#x27;rf&#x27;,\n",
              "                                RandomForestClassifier(n_estimators=50,\n",
              "                                                       random_state=42)),\n",
              "                               (&#x27;gb&#x27;,\n",
              "                                GradientBoostingClassifier(n_estimators=50,\n",
              "                                                           random_state=42)),\n",
              "                               (&#x27;svc&#x27;, SVC(probability=True, random_state=42))],\n",
              "                   final_estimator=LogisticRegression(random_state=42))</pre><b>In a Jupyter environment, please rerun this cell to show the HTML representation or trust the notebook. <br />On GitHub, the HTML representation is unable to render, please try loading this page with nbviewer.org.</b></div><div class=\"sk-container\" hidden><div class=\"sk-item sk-dashed-wrapped\"><div class=\"sk-label-container\"><div class=\"sk-label sk-toggleable\"><input class=\"sk-toggleable__control sk-hidden--visually\" id=\"sk-estimator-id-16\" type=\"checkbox\" ><label for=\"sk-estimator-id-16\" class=\"sk-toggleable__label sk-toggleable__label-arrow\">StackingClassifier</label><div class=\"sk-toggleable__content\"><pre>StackingClassifier(cv=5,\n",
              "                   estimators=[(&#x27;rf&#x27;,\n",
              "                                RandomForestClassifier(n_estimators=50,\n",
              "                                                       random_state=42)),\n",
              "                               (&#x27;gb&#x27;,\n",
              "                                GradientBoostingClassifier(n_estimators=50,\n",
              "                                                           random_state=42)),\n",
              "                               (&#x27;svc&#x27;, SVC(probability=True, random_state=42))],\n",
              "                   final_estimator=LogisticRegression(random_state=42))</pre></div></div></div><div class=\"sk-serial\"><div class=\"sk-item\"><div class=\"sk-parallel\"><div class=\"sk-parallel-item\"><div class=\"sk-item\"><div class=\"sk-label-container\"><div class=\"sk-label sk-toggleable\"><label>rf</label></div></div><div class=\"sk-serial\"><div class=\"sk-item\"><div class=\"sk-estimator sk-toggleable\"><input class=\"sk-toggleable__control sk-hidden--visually\" id=\"sk-estimator-id-17\" type=\"checkbox\" ><label for=\"sk-estimator-id-17\" class=\"sk-toggleable__label sk-toggleable__label-arrow\">RandomForestClassifier</label><div class=\"sk-toggleable__content\"><pre>RandomForestClassifier(n_estimators=50, random_state=42)</pre></div></div></div></div></div></div><div class=\"sk-parallel-item\"><div class=\"sk-item\"><div class=\"sk-label-container\"><div class=\"sk-label sk-toggleable\"><label>gb</label></div></div><div class=\"sk-serial\"><div class=\"sk-item\"><div class=\"sk-estimator sk-toggleable\"><input class=\"sk-toggleable__control sk-hidden--visually\" id=\"sk-estimator-id-18\" type=\"checkbox\" ><label for=\"sk-estimator-id-18\" class=\"sk-toggleable__label sk-toggleable__label-arrow\">GradientBoostingClassifier</label><div class=\"sk-toggleable__content\"><pre>GradientBoostingClassifier(n_estimators=50, random_state=42)</pre></div></div></div></div></div></div><div class=\"sk-parallel-item\"><div class=\"sk-item\"><div class=\"sk-label-container\"><div class=\"sk-label sk-toggleable\"><label>svc</label></div></div><div class=\"sk-serial\"><div class=\"sk-item\"><div class=\"sk-estimator sk-toggleable\"><input class=\"sk-toggleable__control sk-hidden--visually\" id=\"sk-estimator-id-19\" type=\"checkbox\" ><label for=\"sk-estimator-id-19\" class=\"sk-toggleable__label sk-toggleable__label-arrow\">SVC</label><div class=\"sk-toggleable__content\"><pre>SVC(probability=True, random_state=42)</pre></div></div></div></div></div></div></div></div><div class=\"sk-item\"><div class=\"sk-parallel\"><div class=\"sk-parallel-item\"><div class=\"sk-item\"><div class=\"sk-label-container\"><div class=\"sk-label sk-toggleable\"><label>final_estimator</label></div></div><div class=\"sk-serial\"><div class=\"sk-item\"><div class=\"sk-estimator sk-toggleable\"><input class=\"sk-toggleable__control sk-hidden--visually\" id=\"sk-estimator-id-20\" type=\"checkbox\" ><label for=\"sk-estimator-id-20\" class=\"sk-toggleable__label sk-toggleable__label-arrow\">LogisticRegression</label><div class=\"sk-toggleable__content\"><pre>LogisticRegression(random_state=42)</pre></div></div></div></div></div></div></div></div></div></div></div></div>"
            ]
          },
          "metadata": {},
          "execution_count": 147
        }
      ]
    },
    {
      "cell_type": "code",
      "source": [
        "# Measure model performance\n",
        "from sklearn.metrics import accuracy_score\n",
        "y_pred = stacking_classifier.predict(X_test)\n",
        "print('Accuracy: %.3f' % accuracy_score(y_test, y_pred))\n",
        "\n",
        "cm = confusion_matrix(y_test, y_pred)\n",
        "print('cm = ', cm)\n",
        "print('cm[0,0] = ', cm[0,0])"
      ],
      "metadata": {
        "colab": {
          "base_uri": "https://localhost:8080/"
        },
        "id": "P4LPO3SVi0Kx",
        "outputId": "d7d68178-185a-4e65-def1-613159be023a"
      },
      "execution_count": 148,
      "outputs": [
        {
          "output_type": "stream",
          "name": "stdout",
          "text": [
            "Accuracy: 0.764\n",
            "cm =  [[145  60]\n",
            " [ 44 192]]\n",
            "cm[0,0] =  145\n"
          ]
        }
      ]
    }
  ]
}